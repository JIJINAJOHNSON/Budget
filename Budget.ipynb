{
 "cells": [
  {
   "cell_type": "markdown",
   "metadata": {},
   "source": [
    "# initial deposit        1000.00\n",
    "groceries               -10.15\n",
    "restaurant and more foo -15.89\n",
    "Transfer to Clothing    -50.00\n",
    "Total: 923.96"
   ]
  },
  {
   "cell_type": "code",
   "execution_count": 64,
   "metadata": {},
   "outputs": [],
   "source": [
    "class Total:\n",
    "    def __init__(self,initial_deposit,groceries,restaurant_and_more_foo,transfer_to_clothing,total):\n",
    "        self.initial_deposit=initial_deposit\n",
    "        self.groceries=groceries\n",
    "        self.restaurant_and_more_foo=restaurant_and_more_foo\n",
    "        self.transfer_to_clothing=transfer_to_clothing\n",
    "        self.total=total\n",
    "    def show_totals_details(self):\n",
    "        print(\"initial deposit \",self.initial_deposit)\n",
    "        print(\"groceries \",self.groceries)\n",
    "        print(\"restaurant and more foo \",self.restaurant_and_more_foo)\n",
    "        print(\"Transfer to Clothing \",self.transfer_to_clothing)\n",
    "        print(\"Total :\",self.total)"
   ]
  },
  {
   "cell_type": "code",
   "execution_count": 65,
   "metadata": {},
   "outputs": [
    {
     "name": "stdout",
     "output_type": "stream",
     "text": [
      "initial deposit  1000.0\n",
      "groceries  -10.15\n",
      "restaurant and more foo  -15.89\n",
      "Transfer to Clothing  -50.0\n",
      "Total : 923.96\n"
     ]
    }
   ],
   "source": [
    "t1=Total(1000.00,-10.15,-15.89,-50.00,923.96)\n",
    "t1.show_totals_details()"
   ]
  },
  {
   "cell_type": "code",
   "execution_count": null,
   "metadata": {},
   "outputs": [],
   "source": []
  }
 ],
 "metadata": {
  "kernelspec": {
   "display_name": "Python 3",
   "language": "python",
   "name": "python3"
  },
  "language_info": {
   "codemirror_mode": {
    "name": "ipython",
    "version": 3
   },
   "file_extension": ".py",
   "mimetype": "text/x-python",
   "name": "python",
   "nbconvert_exporter": "python",
   "pygments_lexer": "ipython3",
   "version": "3.8.5"
  }
 },
 "nbformat": 4,
 "nbformat_minor": 4
}
